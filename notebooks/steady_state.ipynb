{
 "cells": [
  {
   "cell_type": "markdown",
   "id": "5a20080b",
   "metadata": {},
   "source": [
    "# Review process for generating steady state conditions"
   ]
  },
  {
   "cell_type": "code",
   "execution_count": 2,
   "id": "f48b47b6",
   "metadata": {},
   "outputs": [],
   "source": [
    "# Specify quail source directory\n",
    "# Import standard libraries\n",
    "import matplotlib.pyplot as plt\n",
    "import numpy as np\n",
    "import os\n",
    "\n",
    "# Modify base path for depending on your file structure.\n",
    "BASE_PATH = \"/Users/paxton/git\"\n",
    "\n",
    "# Specify path for Quail source code\n",
    "source_dir = f\"{BASE_PATH}/quail_volcano/src\"\n",
    "\n",
    "# Import quail modules\n",
    "os.chdir(source_dir)\n",
    "\n",
    "# Import steady_state module\n",
    "import compressible_conduit_steady.steady_state as steady_state\n",
    "\n"
   ]
  },
  {
   "cell_type": "code",
   "execution_count": null,
   "id": "c6ed195c",
   "metadata": {},
   "outputs": [
    {
     "name": "stdout",
     "output_type": "stream",
     "text": [
      "48383.102699936186 1.2095775674984046 6047.887837492023\n"
     ]
    }
   ],
   "source": [
    "R = 5\n",
    "f_plug = 1.9e8\n",
    "len_plug = 50\n",
    "\n",
    "t_plug = f_plug/(2*np.pi*R*len_plug)\n",
    "trac_par = 2*t_plug/R\n",
    "\n",
    "#print(trac_par, t_plug/1e5, f_plug/(2*np.pi*R*1000))\n",
    "# Construct x_mesh (with shape (n, 1, 1))\n",
    "\n",
    "N_mesh_points = 800\n",
    "\n",
    "x_mesh = np.linspace(-1000, 0, N_mesh_points)[:,np.newaxis,np.newaxis]\n",
    "# Chamber pressure is not used, so we pass a dummy value\n",
    "p_chamber = None\n",
    "# Set vent pressure\n",
    "\n",
    "p_vent = (1e5)\n",
    "\n",
    "# Set functions for traction, total water mass fraction, crystal mass fraction, temperature\n",
    "# Define the cosine taper function\n",
    "def cosine_taper(x, x1, x2, y1, y2):\n",
    "    return np.where(x < x1, y1,\n",
    "                    np.where(x > x2, y2,\n",
    "                             y1 + (y2 - y1) * 0.5 * (1 - np.cos(np.pi * (x - x1) / (x2 - x1)))))\n",
    "\n",
    "# Define the transition region\n",
    "x1 = -len_plug - 10  # Start of transition\n",
    "x2 = -len_plug + 10  # End of transition\n",
    "\n",
    "T_chamber = 950 + 273.15\n",
    "yC = 0.4\n",
    "yWt = 0.006\n",
    "\n",
    "# Define the functions using cosine taper\n",
    "traction_fn = lambda x: cosine_taper(x, x1, x2, 0, -trac_par)\n",
    "yWt_fn = lambda x: cosine_taper(x, x1, x2,yWt, 0.)\n",
    "yC_fn = lambda x: cosine_taper(x, x1, x2, yC, 0.95)\n",
    "T_fn = lambda x: cosine_taper(x, x1, x2, T_chamber, 930 + 273.15)\n",
    "yF_fn = lambda x: cosine_taper(x, x1, x2, 0, 1)\n",
    "\n",
    "# Set material properties of the magma phase (melt + dissolved water + crystals)\n",
    "material_props = {\n",
    "  \"yA\": 1e-7,          # Air mass fraction (> 0 for numerics)\n",
    "  \"c_v_magma\": 1e3,    # Magma phase heat capacity per mass\n",
    "  \"rho0_magma\": 2.6e3, # Linearization reference density\n",
    "  \"K_magma\": 1e10,     # Bulk modulus\n",
    "  \"p0_magma\": 36e6,    # Linearization reference pressure\n",
    "  \"solubility_k\": 2.8e-6, # Henry's law coefficient\n",
    "  \"solubility_n\": 0.5, # Henry's law exponent\n",
    "}\n",
    "\n",
    "# Initialize hydrostatic steady-state solver\n",
    "# This is a one-use callable object\n",
    "f = steady_state.StaticPlug(x_mesh,\n",
    "                            p_chamber,\n",
    "                            traction_fn, yWt_fn, yC_fn, T_fn, yF_fn,\n",
    "                            override_properties=material_props, enforce_p_vent=p_vent)\n",
    "# Solve by calling f\n",
    "#   io_format=\"p\" here returns only pressure\n",
    "#   io_format=\"quail\" will return the solution in quail format\n",
    "p = f(x_mesh, is_solve_direction_downward=True, io_format=\"p\")\n",
    "\n",
    "# Solve again in Quail format (need to reinitialize f)\n",
    "f = steady_state.StaticPlug(x_mesh,\n",
    "                            p_chamber,\n",
    "                            traction_fn, yWt_fn, yC_fn, T_fn, yF_fn,\n",
    "                            override_properties=material_props, enforce_p_vent=p_vent)\n",
    "\n",
    "U = f(x_mesh, is_solve_direction_downward=True, io_format=\"quail\")"
   ]
  },
  {
   "cell_type": "markdown",
   "id": "436abed5",
   "metadata": {},
   "source": [
    "## Relevant outputs from steady state solution"
   ]
  },
  {
   "cell_type": "code",
   "execution_count": null,
   "id": "efdd1864",
   "metadata": {},
   "outputs": [
    {
     "name": "stdout",
     "output_type": "stream",
     "text": [
      "Chamber pressure: 25174368.352108344 [Pa]\n"
     ]
    }
   ],
   "source": [
    "print(f\"Chamber pressure: {p[0,0]} [Pa]\")\n"
   ]
  },
  {
   "cell_type": "code",
   "execution_count": 16,
   "id": "cece218d",
   "metadata": {},
   "outputs": [
    {
     "data": {
      "text/plain": [
       "array([[2.59717619e-04, 0.00000000e+00, 2.59717593e+03, 0.00000000e+00,\n",
       "        3.17673597e+09, 1.55830571e+01, 1.03887048e+03, 0.00000000e+00]])"
      ]
     },
     "execution_count": 16,
     "metadata": {},
     "output_type": "execute_result"
    }
   ],
   "source": [
    "U.shape\n",
    "U[0,:,:]"
   ]
  }
 ],
 "metadata": {
  "kernelspec": {
   "display_name": "venv",
   "language": "python",
   "name": "python3"
  },
  "language_info": {
   "codemirror_mode": {
    "name": "ipython",
    "version": 3
   },
   "file_extension": ".py",
   "mimetype": "text/x-python",
   "name": "python",
   "nbconvert_exporter": "python",
   "pygments_lexer": "ipython3",
   "version": "3.13.3"
  }
 },
 "nbformat": 4,
 "nbformat_minor": 5
}
