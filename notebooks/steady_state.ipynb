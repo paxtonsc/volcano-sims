{
 "cells": [
  {
   "cell_type": "markdown",
   "id": "5a20080b",
   "metadata": {},
   "source": [
    "# Review process for generating steady state conditions\n",
    "\n",
    "To generate steady state, conditions, we make the call to StaticPlug defined [here](https://github.com/fredriclam/compressible-conduit-steady/commit/6175d7bb2496a4eaec168652a5d2815d9e09bf23#diff-59583c6549aedc1320306f24a60f924336cce62afd3bbe5927e5a9f82b44c6d5R1211).\n",
    "\n",
    "Static plug solves ODEs and returns two possible outputs:\n",
    "1. p (pressure array)\n",
    "2. U (computed state variables)\n",
    "\n",
    "I am not totally sure why Fred removed the the link to fragmentation criterion. But he did [here](https://github.com/fredriclam/compressible-conduit-steady/blob/main/steady_state.py#L1468-L1474). As it is, I don't think fragmentation is actually being considered at all. \n",
    "\n",
    "## Notes from Fred's email 05/14\n",
    "\n",
    "- StaticPlug (rewritten from SteadyState class to speclize in zero velocity case)\n",
    "- In theory no velocity means no fragmentation or exsolution\n",
    "\n",
    "\n",
    "Suggestions:\n",
    "1. **turn off exsolution in unsteady solver.** That is sufficient to stop the quail solution from behaving badly. \n",
    "2. **Add clippings to the exsolved water vapor used in the Static plug to be at least 1e-7** I made this change and it did not appear to help the situation \n",
    "3. **Does increasing the exsolution time source help?** Increasing the exsolution time to 1s is sufficient to resolve the issue. Even just increasing the exsolution time scale to 1e-2 s is sufficient to largely resolve the issue. \n",
    "\n",
    "\n",
    "## Questions \n",
    "- Is it acceptable to have the exsolution time scale increased? \n",
    "- The huge errors when the exsolution timescale is too small seems to imply that the exsolutiuon source may have a bug in it? \n"
   ]
  },
  {
   "cell_type": "code",
   "execution_count": 7,
   "id": "f48b47b6",
   "metadata": {},
   "outputs": [],
   "source": [
    "# Import standard libraries\n",
    "import matplotlib.pyplot as plt\n",
    "import numpy as np\n",
    "import os\n",
    "\n",
    "# Modify base path for depending on your file structure.\n",
    "BASE_PATH = \"/Users/paxton/git\"\n",
    "\n",
    "# Specify path for Quail source code\n",
    "source_dir = f\"{BASE_PATH}/quail_volcano/src\"\n",
    "target_dir = f\"{BASE_PATH}/volcano_sims/notebooks\"\n",
    "\n",
    "# Import quail modules\n",
    "os.chdir(source_dir)\n",
    "\n",
    "# Import steady_state module\n",
    "import compressible_conduit_steady.steady_state as steady_state\n",
    "\n"
   ]
  },
  {
   "cell_type": "code",
   "execution_count": 8,
   "id": "c6ed195c",
   "metadata": {},
   "outputs": [
    {
     "name": "stdout",
     "output_type": "stream",
     "text": [
      "60478.878374920234\n"
     ]
    }
   ],
   "source": [
    "R = 10\n",
    "f_plug = 1.9e8\n",
    "len_plug = 50\n",
    "\n",
    "t_plug = f_plug/(2*np.pi*R*len_plug) # [N / m^2]\n",
    "trac_par = 2*t_plug/R # [N / m^3]\n",
    "\n",
    "print(t_plug)\n",
    "\n",
    "N_mesh_points = 400\n",
    "\n",
    "x_mesh = np.linspace(-1000, 0, N_mesh_points)[:,np.newaxis,np.newaxis]\n",
    "# Chamber pressure is not used, so we pass a dummy value\n",
    "p_chamber = None\n",
    "# Set vent pressure\n",
    "\n",
    "p_vent = (1e5)\n",
    "\n",
    "# Set functions for traction, total water mass fraction, crystal mass fraction, temperature\n",
    "# Define the cosine taper function\n",
    "def cosine_taper(x, x1, x2, y1, y2):\n",
    "    return np.where(x < x1, y1,\n",
    "                    np.where(x > x2, y2,\n",
    "                             y1 + (y2 - y1) * 0.5 * (1 - np.cos(np.pi * (x - x1) / (x2 - x1)))))\n",
    "\n",
    "# Define the transition region\n",
    "x1 = -len_plug - 10  # Start of transition\n",
    "x2 = -len_plug + 10  # End of transition\n",
    "\n",
    "T_chamber = 950 + 273.15\n",
    "yC = 0.4\n",
    "yWt = 0.006\n",
    "\n",
    "# Define the functions using cosine taper\n",
    "traction_fn = lambda x: cosine_taper(x, x1, x2, 0, -trac_par)\n",
    "yWt_fn = lambda x: cosine_taper(x, x1, x2,yWt, 0.)\n",
    "yC_fn = lambda x: cosine_taper(x, x1, x2, yC, 0.95)\n",
    "T_fn = lambda x: cosine_taper(x, x1, x2, T_chamber, 930 + 273.15)\n",
    "yF_fn = lambda x: cosine_taper(x, x1, x2, 0, 1)\n",
    "\n",
    "# Set material properties of the magma phase (melt + dissolved water + crystals)\n",
    "material_props = {\n",
    "  \"yA\": 1e-7,          # Air mass fraction (> 0 for numerics)\n",
    "  \"c_v_magma\": 1e3,    # Magma phase heat capacity per mass\n",
    "  \"rho0_magma\": 2.6e3, # Linearization reference density\n",
    "  \"K_magma\": 1e10,     # Bulk modulus\n",
    "  \"p0_magma\": 36e6,    # Linearization reference pressure\n",
    "  \"solubility_k\": 2.8e-6, # Henry's law coefficient\n",
    "  \"solubility_n\": 0.5, # Henry's law exponent\n",
    "}\n",
    "\n",
    "# Initialize hydrostatic steady-state solver\n",
    "# This is a one-use callable object\n",
    "f = steady_state.StaticPlug(x_mesh,\n",
    "                            p_chamber,\n",
    "                            traction_fn, yWt_fn, yC_fn, T_fn, yF_fn,\n",
    "                            override_properties=material_props, enforce_p_vent=p_vent)\n",
    "# Solve by calling f\n",
    "#   io_format=\"p\" here returns only pressure\n",
    "#   io_format=\"quail\" will return the solution in quail format\n",
    "p = f(x_mesh, is_solve_direction_downward=True, io_format=\"p\")\n",
    "\n",
    "# Solve again in Quail format (need to reinitialize f)\n",
    "f = steady_state.StaticPlug(x_mesh,\n",
    "                            p_chamber,\n",
    "                            traction_fn, yWt_fn, yC_fn, T_fn, yF_fn,\n",
    "                            override_properties=material_props, enforce_p_vent=p_vent)\n",
    "\n",
    "U = f(x_mesh, is_solve_direction_downward=True, io_format=\"quail\")"
   ]
  },
  {
   "cell_type": "markdown",
   "id": "973df0cf",
   "metadata": {},
   "source": [
    "## Back of envelop calculations for p0\n",
    "\n",
    "$$\n",
    "0 = p_0 A - P_{atm} A - 2 \\pi R L \\tau_p - \\pi R^2 L \\rho g \\\\\n",
    "p_0 = p_{atm} + \\frac{2 \\pi R L \\tau_p}{A} + L \\rho g \\\\\n",
    "p_0 = 1e5 + 2.4e6 + 1e6 \\\\\n",
    "p_0 = 3.4e6\n",
    "$$\n",
    "\n",
    "I plotted that line below to show that it roughly agrees with the numerical solution for $p_0$"
   ]
  },
  {
   "cell_type": "code",
   "execution_count": 9,
   "id": "9c1f462b",
   "metadata": {},
   "outputs": [
    {
     "data": {
      "text/plain": [
       "<matplotlib.legend.Legend at 0x112697390>"
      ]
     },
     "execution_count": 9,
     "metadata": {},
     "output_type": "execute_result"
    },
    {
     "data": {
      "image/png": "[encoded data removed]",
      "text/plain": [
       "<Figure size 640x480 with 1 Axes>"
      ]
     },
     "metadata": {},
     "output_type": "display_data"
    }
   ],
   "source": [
    "p_simple = p.ravel()\n",
    "\n",
    "plt.plot(range(400), p_simple, label=\"steady state pressure\")\n",
    "plt.plot(range(400), np.ones(p_simple.shape)*3.4e6, label=\"p_0 back of envelope calc\")\n",
    "plt.legend()"
   ]
  },
  {
   "cell_type": "markdown",
   "id": "436abed5",
   "metadata": {},
   "source": [
    "## Relevant outputs from steady state solution"
   ]
  },
  {
   "cell_type": "code",
   "execution_count": 10,
   "id": "efdd1864",
   "metadata": {},
   "outputs": [
    {
     "name": "stdout",
     "output_type": "stream",
     "text": [
      "Chamber pressure: 20110965.29332253 [Pa]\n"
     ]
    }
   ],
   "source": [
    "print(f\"Chamber pressure: {p[0,0]} [Pa]\")\n"
   ]
  },
  {
   "cell_type": "markdown",
   "id": "9d9a8413",
   "metadata": {},
   "source": [
    "## Applying the chamber pressure as an IC for the dynamic simulation results in the following \n",
    "\n",
    "- I had to increase the exsolution timescale to about 1s in order to avoid an eruption.\n",
    "- Why does the speed of sound drop so low leading up towards the plug? lower density I guess? More exsolved gas? "
   ]
  },
  {
   "cell_type": "code",
   "execution_count": 6,
   "id": "66f84c21",
   "metadata": {},
   "outputs": [
    {
     "ename": "RuntimeError",
     "evalue": "Requested MovieWriter (ffmpeg) not available",
     "output_type": "error",
     "traceback": [
      "\u001b[0;31m---------------------------------------------------------------------------\u001b[0m",
      "\u001b[0;31mRuntimeError\u001b[0m                              Traceback (most recent call last)",
      "Cell \u001b[0;32mIn[6], line 13\u001b[0m\n\u001b[1;32m     10\u001b[0m solver_func \u001b[38;5;241m=\u001b[39m get_local_solver_from_index_func(folder_name, file_name)\n\u001b[1;32m     11\u001b[0m ani \u001b[38;5;241m=\u001b[39m animate_conduit_pressure(solver_func, iterations\u001b[38;5;241m=\u001b[39miterations, viscosity_index\u001b[38;5;241m=\u001b[39m\u001b[38;5;241m1\u001b[39m, wall_friction_index\u001b[38;5;241m=\u001b[39m\u001b[38;5;241m5\u001b[39m, max_velocity\u001b[38;5;241m=\u001b[39m\u001b[38;5;241m30\u001b[39m, max_slip\u001b[38;5;241m=\u001b[39m\u001b[38;5;241m60\u001b[39m, max_tau\u001b[38;5;241m=\u001b[39m\u001b[38;5;241m1.5\u001b[39m, max_pressure\u001b[38;5;241m=\u001b[39m\u001b[38;5;241m50\u001b[39m, max_speed_of_sound\u001b[38;5;241m=\u001b[39m\u001b[38;5;241m2000\u001b[39m, max_water\u001b[38;5;241m=\u001b[39m\u001b[38;5;241m20\u001b[39m, max_density\u001b[38;5;241m=\u001b[39m\u001b[38;5;241m5e3\u001b[39m, max_fragmentation\u001b[38;5;241m=\u001b[39m\u001b[38;5;241m5000\u001b[39m, max_crystal\u001b[38;5;241m=\u001b[39m\u001b[38;5;241m100\u001b[39m, max_viscosity\u001b[38;5;241m=\u001b[39m\u001b[38;5;241m1\u001b[39m)\n\u001b[0;32m---> 13\u001b[0m HTML(\u001b[43mani\u001b[49m\u001b[38;5;241;43m.\u001b[39;49m\u001b[43mto_html5_video\u001b[49m\u001b[43m(\u001b[49m\u001b[43m)\u001b[49m)\n",
      "File \u001b[0;32m~/git/volcano_sims/venv/lib/python3.13/site-packages/matplotlib/animation.py:1302\u001b[0m, in \u001b[0;36mAnimation.to_html5_video\u001b[0;34m(self, embed_limit)\u001b[0m\n\u001b[1;32m   1299\u001b[0m path \u001b[38;5;241m=\u001b[39m Path(tmpdir, \u001b[38;5;124m\"\u001b[39m\u001b[38;5;124mtemp.m4v\u001b[39m\u001b[38;5;124m\"\u001b[39m)\n\u001b[1;32m   1300\u001b[0m \u001b[38;5;66;03m# We create a writer manually so that we can get the\u001b[39;00m\n\u001b[1;32m   1301\u001b[0m \u001b[38;5;66;03m# appropriate size for the tag\u001b[39;00m\n\u001b[0;32m-> 1302\u001b[0m Writer \u001b[38;5;241m=\u001b[39m \u001b[43mwriters\u001b[49m\u001b[43m[\u001b[49m\u001b[43mmpl\u001b[49m\u001b[38;5;241;43m.\u001b[39;49m\u001b[43mrcParams\u001b[49m\u001b[43m[\u001b[49m\u001b[38;5;124;43m'\u001b[39;49m\u001b[38;5;124;43manimation.writer\u001b[39;49m\u001b[38;5;124;43m'\u001b[39;49m\u001b[43m]\u001b[49m\u001b[43m]\u001b[49m\n\u001b[1;32m   1303\u001b[0m writer \u001b[38;5;241m=\u001b[39m Writer(codec\u001b[38;5;241m=\u001b[39m\u001b[38;5;124m'\u001b[39m\u001b[38;5;124mh264\u001b[39m\u001b[38;5;124m'\u001b[39m,\n\u001b[1;32m   1304\u001b[0m                 bitrate\u001b[38;5;241m=\u001b[39mmpl\u001b[38;5;241m.\u001b[39mrcParams[\u001b[38;5;124m'\u001b[39m\u001b[38;5;124manimation.bitrate\u001b[39m\u001b[38;5;124m'\u001b[39m],\n\u001b[1;32m   1305\u001b[0m                 fps\u001b[38;5;241m=\u001b[39m\u001b[38;5;241m1000.\u001b[39m \u001b[38;5;241m/\u001b[39m \u001b[38;5;28mself\u001b[39m\u001b[38;5;241m.\u001b[39m_interval)\n\u001b[1;32m   1306\u001b[0m \u001b[38;5;28mself\u001b[39m\u001b[38;5;241m.\u001b[39msave(\u001b[38;5;28mstr\u001b[39m(path), writer\u001b[38;5;241m=\u001b[39mwriter)\n",
      "File \u001b[0;32m~/git/volcano_sims/venv/lib/python3.13/site-packages/matplotlib/animation.py:121\u001b[0m, in \u001b[0;36mMovieWriterRegistry.__getitem__\u001b[0;34m(self, name)\u001b[0m\n\u001b[1;32m    119\u001b[0m \u001b[38;5;28;01mif\u001b[39;00m \u001b[38;5;28mself\u001b[39m\u001b[38;5;241m.\u001b[39mis_available(name):\n\u001b[1;32m    120\u001b[0m     \u001b[38;5;28;01mreturn\u001b[39;00m \u001b[38;5;28mself\u001b[39m\u001b[38;5;241m.\u001b[39m_registered[name]\n\u001b[0;32m--> 121\u001b[0m \u001b[38;5;28;01mraise\u001b[39;00m \u001b[38;5;167;01mRuntimeError\u001b[39;00m(\u001b[38;5;124mf\u001b[39m\u001b[38;5;124m\"\u001b[39m\u001b[38;5;124mRequested MovieWriter (\u001b[39m\u001b[38;5;132;01m{\u001b[39;00mname\u001b[38;5;132;01m}\u001b[39;00m\u001b[38;5;124m) not available\u001b[39m\u001b[38;5;124m\"\u001b[39m)\n",
      "\u001b[0;31mRuntimeError\u001b[0m: Requested MovieWriter (ffmpeg) not available"
     ]
    }
   ],
   "source": [
    "os.chdir(target_dir)\n",
    "\n",
    "from helper_code.slip_imports import *\n",
    "from helper_code.helper_functions import get_local_solver_from_index_func\n",
    "from helper_code.animate import animate_conduit_pressure\n",
    "\n",
    "folder_name = \"eruption_model_no_atmosphere\"\n",
    "file_name = \"tungurahua_rad_5_v20_conduit\"\n",
    "iterations = 100\n",
    "solver_func = get_local_solver_from_index_func(folder_name, file_name)\n",
    "ani = animate_conduit_pressure(solver_func, iterations=iterations, viscosity_index=1, wall_friction_index=5, max_velocity=30, max_slip=60, max_tau=1.5, max_pressure=50, max_speed_of_sound=2000, max_water=20, max_density=5e3, max_fragmentation=5000, max_crystal=100, max_viscosity=1)\n",
    "\n",
    "HTML(ani.to_html5_video())"
   ]
  }
 ],
 "metadata": {
  "kernelspec": {
   "display_name": "venv",
   "language": "python",
   "name": "python3"
  },
  "language_info": {
   "codemirror_mode": {
    "name": "ipython",
    "version": 3
   },
   "file_extension": ".py",
   "mimetype": "text/x-python",
   "name": "python",
   "nbconvert_exporter": "python",
   "pygments_lexer": "ipython3",
   "version": "3.13.3"
  }
 },
 "nbformat": 4,
 "nbformat_minor": 5
}
