{
 "cells": [
  {
   "cell_type": "code",
   "execution_count": null,
   "id": "9fcffeee",
   "metadata": {},
   "outputs": [
    {
     "ename": "",
     "evalue": "",
     "output_type": "error",
     "traceback": [
      "\u001b[1;31mRunning cells with 'Python 3.13.5' requires the ipykernel package.\n",
      "\u001b[1;31mInstall 'ipykernel' into the Python environment. \n",
      "\u001b[1;31mCommand: '/opt/homebrew/bin/python3 -m pip install ipykernel -U --user --force-reinstall'"
     ]
    }
   ],
   "source": [
    "import numpy as np"
   ]
  },
  {
   "cell_type": "code",
   "execution_count": null,
   "id": "0bf1588d",
   "metadata": {},
   "outputs": [
    {
     "ename": "",
     "evalue": "",
     "output_type": "error",
     "traceback": [
      "\u001b[1;31mRunning cells with 'Python 3.13.5' requires the ipykernel package.\n",
      "\u001b[1;31mInstall 'ipykernel' into the Python environment. \n",
      "\u001b[1;31mCommand: '/opt/homebrew/bin/python3 -m pip install ipykernel -U --user --force-reinstall'"
     ]
    }
   ],
   "source": [
    "# Load compressed npz archive\n",
    "# The archive contains the field \"time\" and \"state_coeffs\"\n",
    "#   archive[\"time\"] is an np.array with size (n_timesteps)\n",
    "#   archive[\"state_coeffs\"] is an np.array with size (n_timesteps, n_elems, n_basis, n_states)\n",
    "# The field \"state_coeffs\" contains the solver.state_coeffs variables for all\n",
    "# the output files, combined into one array.\n",
    "\n",
    "# Example below (loading multiple at a time may use a lot of memory):\n",
    "archive = np.load(f\"refblastH4_cond.npz\")\n",
    "# archive = np.load(f\"refblastH4_atm1.npz\")\n",
    "# archive = np.load(f\"refblastH4_atm2.npz\")\n",
    "# archive = np.load(f\"refblastH4_atm3.npz\")\n",
    "# archive = np.load(f\"refblastH4_atm4.npz\")\n",
    "# archive = np.load(f\"refblastH4_atm5.npz\")\n",
    "# archive = np.load(f\"refblastH4_atm6.npz\")"
   ]
  },
  {
   "cell_type": "code",
   "execution_count": null,
   "id": "daf3d7a7",
   "metadata": {},
   "outputs": [
    {
     "ename": "",
     "evalue": "",
     "output_type": "error",
     "traceback": [
      "\u001b[1;31mRunning cells with 'Python 3.13.5' requires the ipykernel package.\n",
      "\u001b[1;31mInstall 'ipykernel' into the Python environment. \n",
      "\u001b[1;31mCommand: '/opt/homebrew/bin/python3 -m pip install ipykernel -U --user --force-reinstall'"
     ]
    }
   ],
   "source": [
    "# Using the data\n",
    "# Note that the data is loaded into memory when accessing the field\n",
    "time_vector = archive[\"time\"]\n",
    "all_state_coeffs = archive[\"state_coeffs\"]\n",
    "print(all_state_coeffs.shape)"
   ]
  }
 ],
 "metadata": {
  "kernelspec": {
   "display_name": "Python 3",
   "language": "python",
   "name": "python3"
  },
  "language_info": {
   "name": "python",
   "version": "3.13.5"
  }
 },
 "nbformat": 4,
 "nbformat_minor": 5
}
